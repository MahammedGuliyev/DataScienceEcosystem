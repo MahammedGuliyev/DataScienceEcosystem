{
 "cells": [
  {
   "cell_type": "markdown",
   "id": "86eeeb98-c56f-4aa5-be07-ded1d384b736",
   "metadata": {},
   "source": [
    "<h1>Data Science Tools and Ecosystem</h1>"
   ]
  },
  {
   "cell_type": "markdown",
   "id": "9dd4576f-b4fd-48da-85f5-b0c2e4aed793",
   "metadata": {},
   "source": [
    "#Bu not defterinde, Veri Bilimi Araçları ve Ekosistemi özetlenmiştir."
   ]
  },
  {
   "cell_type": "markdown",
   "id": "4fc1e656-af32-4046-9207-9478e3ec63f7",
   "metadata": {},
   "source": [
    "Veri Bilimcilerin kullandığı popüler dillerden bazıları:\n",
    "\n",
    "1. Python  \n",
    "2. R  \n",
    "3. SQL  \n",
    "4. Julia  \n",
    "5. Scala  "
   ]
  },
  {
   "cell_type": "markdown",
   "id": "d8164010-f7f9-451d-b86a-478fb492295b",
   "metadata": {},
   "source": [
    "Veri Bilimcilerin kullandığı yaygın kütüphanelerden bazıları:\n",
    "\n",
    "1. NumPy  \n",
    "2. Pandas  \n",
    "3. Matplotlib  \n",
    "4. Scikit-learn  \n",
    "5. TensorFlow"
   ]
  },
  {
   "cell_type": "markdown",
   "id": "2f5d3eff-5ff1-4189-9f5a-50136d21cb51",
   "metadata": {},
   "source": [
    "| Veri Bilimi Araçları         |\n",
    "|-----------------------------|\n",
    "| Jupyter Notebook            |\n",
    "| RStudio                     |\n",
    "| Visual Studio Code (VSCode) |\n"
   ]
  },
  {
   "cell_type": "markdown",
   "id": "378aebaa-1615-4fae-bb3c-0b7ebfccde1d",
   "metadata": {},
   "source": [
    "<h3>Aşağıda Python'da aritmetik ifadeleri değerlendirme örnekleri bulunmaktadır.</h3>"
   ]
  },
  {
   "cell_type": "markdown",
   "id": "17e637d0-2cc1-4980-8aae-3d3a6d49b29d",
   "metadata": {},
   "source": [
    "#Bu, tam sayıları çarpıp sonra toplamak için basit bir aritmetik ifadedir."
   ]
  },
  {
   "cell_type": "code",
   "execution_count": 3,
   "id": "f6f5ef8c-9c16-421e-85ac-38746bfc3a71",
   "metadata": {},
   "outputs": [
    {
     "data": {
      "text/plain": [
       "17"
      ]
     },
     "execution_count": 3,
     "metadata": {},
     "output_type": "execute_result"
    }
   ],
   "source": [
    "(3*4)+5"
   ]
  },
  {
   "cell_type": "markdown",
   "id": "422049e0-3334-454a-946e-0022c49ad245",
   "metadata": {},
   "source": [
    "#Bu, 200 dakikayı 60'a bölerek saatlere dönüştürecektir."
   ]
  },
  {
   "cell_type": "code",
   "execution_count": 4,
   "id": "0e7ed61f-da0b-4375-8bb8-021fd9eee121",
   "metadata": {},
   "outputs": [
    {
     "name": "stdout",
     "output_type": "stream",
     "text": [
      "3.3333333333333335\n"
     ]
    }
   ],
   "source": [
    "saat = 200 / 60\n",
    "print(saat)"
   ]
  },
  {
   "cell_type": "markdown",
   "id": "1f9700ca-bd3d-4f39-855a-bdc12bc1d4cc",
   "metadata": {},
   "source": [
    "**Hedefler:**\n",
    "\n",
    "- Veri biliminin ne olduğunu tanımlamak  \n",
    "- Veri bilimi iş rollerini açıklamak  \n",
    "- Veri biliminde yaygın olarak kullanılan programlama dillerini listelemek  \n",
    "- Temel Python söz dizimiyle kod yazmak  \n",
    "- Dakikaları saatlere dönüştürme gibi basit işlemleri gerçekleştirmek"
   ]
  },
  {
   "cell_type": "markdown",
   "id": "1c311cd9-2b6d-4578-84fc-f56f1b00e41e",
   "metadata": {},
   "source": [
    "## Yazar\n",
    "\n",
    "Mahammad Guliyev"
   ]
  },
  {
   "cell_type": "code",
   "execution_count": null,
   "id": "d6f8ce4f-8562-47a6-b566-6f49a24fb228",
   "metadata": {},
   "outputs": [],
   "source": []
  }
 ],
 "metadata": {
  "kernelspec": {
   "display_name": "Python 3 (ipykernel)",
   "language": "python",
   "name": "python3"
  },
  "language_info": {
   "codemirror_mode": {
    "name": "ipython",
    "version": 3
   },
   "file_extension": ".py",
   "mimetype": "text/x-python",
   "name": "python",
   "nbconvert_exporter": "python",
   "pygments_lexer": "ipython3",
   "version": "3.12.8"
  }
 },
 "nbformat": 4,
 "nbformat_minor": 5
}
