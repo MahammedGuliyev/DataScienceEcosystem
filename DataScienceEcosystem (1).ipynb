{
 "cells": [
  {
   "cell_type": "markdown",
   "id": "e7d4c788-728f-4edd-8de9-cd9487b2b895",
   "metadata": {},
   "source": [
    "Data Science Tools and Ecosystem\n",
    "\n"
   ]
  },
  {
   "cell_type": "markdown",
   "id": "6477ba31-68b4-4305-bbea-d3cf0a8f10df",
   "metadata": {},
   "source": [
    "Bu not defterinde, Veri Bilimi Araçları ve Ekosistemi özetlenmiştir."
   ]
  },
  {
   "cell_type": "markdown",
   "id": "4bf2d164-ad6d-4f10-a55e-a68b13d5c0fd",
   "metadata": {},
   "source": [
    "Veri Bilimcilerin kullandığı popüler dillerden bazıları:\n",
    "R,PYTHON,SQL"
   ]
  },
  {
   "cell_type": "markdown",
   "id": "4b90ef0b-ab55-4f89-8e43-1fb4a0d4a93f",
   "metadata": {},
   "source": [
    "Veri Bilimcilerin kullandığı yaygın kütüphanelerden bazıları:\n",
    "Pandas,Numpy,Sckit-learn,Ggplot2,"
   ]
  },
  {
   "cell_type": "markdown",
   "id": "1be6e60f-04cb-4b10-8796-64c8f96170da",
   "metadata": {},
   "source": [
    "Veri Bilimi Araçları:\n",
    "Jupyter Notebook,\n",
    "RStudio,\n",
    "Apache Zeppelin"
   ]
  },
  {
   "cell_type": "markdown",
   "id": "1973f614-e50a-4a98-b7d8-e27525ada9cb",
   "metadata": {},
   "source": [
    "Aşağıda Python'da aritmetik ifadeleri değerlendirme örnekleri bulunmaktadır."
   ]
  },
  {
   "cell_type": "markdown",
   "id": "52a0b937-04af-4edc-9d8c-a4ecf71f37cf",
   "metadata": {},
   "source": [
    "Bu, tam sayıları çarpıp sonra toplamak için basit bir aritmetik ifadedir.\n"
   ]
  },
  {
   "cell_type": "code",
   "execution_count": 1,
   "id": "bf5cbfe3-2f6a-419e-8496-e33a431c30e5",
   "metadata": {},
   "outputs": [
    {
     "data": {
      "text/plain": [
       "17"
      ]
     },
     "execution_count": 1,
     "metadata": {},
     "output_type": "execute_result"
    }
   ],
   "source": [
    "(3*4)+5"
   ]
  },
  {
   "cell_type": "markdown",
   "id": "01484d9a-f2dc-48be-b037-037a53eddb29",
   "metadata": {},
   "source": [
    "Bu, 200 dakikayı 60'a bölerek saatlere dönüştürecektir."
   ]
  },
  {
   "cell_type": "code",
   "execution_count": 2,
   "id": "a8da1e8c-e114-4287-ae84-f469390daf1d",
   "metadata": {},
   "outputs": [
    {
     "name": "stdout",
     "output_type": "stream",
     "text": [
      "3.3333333333333335\n"
     ]
    }
   ],
   "source": [
    "dakika = 200\n",
    "saat = dakika / 60\n",
    "print(saat)"
   ]
  },
  {
   "cell_type": "markdown",
   "id": "34bc7995-2192-4f8f-b544-9522d48d7d8e",
   "metadata": {},
   "source": [
    "<h1>Hedefler</h1>\n",
    "\n",
    "- Veri Bilimi için popüler dilleri listele  \n",
    "- Açık kaynak geliştirme ortamlarını tanımla  \n",
    "- GitHub depoları ile çalışma prensiplerini açıkla  \n",
    "- Markdown kullanarak not defteri belgeleri oluştur  \n",
    "- Sürüm kontrol sistemlerinin amacını açıkla  "
   ]
  },
  {
   "cell_type": "markdown",
   "id": "3b91c25c-3ab0-493b-912f-6051099035ef",
   "metadata": {},
   "source": [
    "<h2>Yazar</h2>"
   ]
  },
  {
   "cell_type": "markdown",
   "id": "7d62d49c-33a8-4c95-900f-b193a8705528",
   "metadata": {},
   "source": [
    "Mahammad"
   ]
  },
  {
   "cell_type": "code",
   "execution_count": null,
   "id": "62822b4d-2fca-49d7-a2e5-f49e04d929b8",
   "metadata": {},
   "outputs": [],
   "source": []
  },
  {
   "cell_type": "code",
   "execution_count": null,
   "id": "3d7bb8a3-8ce0-4604-aab4-ce8bc9de5c0a",
   "metadata": {},
   "outputs": [],
   "source": []
  }
 ],
 "metadata": {
  "kernelspec": {
   "display_name": "Python 3 (ipykernel)",
   "language": "python",
   "name": "python3"
  },
  "language_info": {
   "codemirror_mode": {
    "name": "ipython",
    "version": 3
   },
   "file_extension": ".py",
   "mimetype": "text/x-python",
   "name": "python",
   "nbconvert_exporter": "python",
   "pygments_lexer": "ipython3",
   "version": "3.12.8"
  }
 },
 "nbformat": 4,
 "nbformat_minor": 5
}
